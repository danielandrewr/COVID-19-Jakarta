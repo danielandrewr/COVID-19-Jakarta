{
 "cells": [
  {
   "cell_type": "code",
   "execution_count": 5,
   "id": "b06170cc",
   "metadata": {},
   "outputs": [],
   "source": [
    "# Analysis done by Runtime Error\n",
    "# Compfest Data Science Academy Test\n",
    "\n",
    "import pandas as pd\n",
    "import seaborn as sns\n",
    "import matplotlib.pyplot as plt\n",
    "from sklearn.linear_model import LinearRegression\n",
    "from sklearn.model_selection import train_test_split"
   ]
  },
  {
   "cell_type": "code",
   "execution_count": 6,
   "id": "e157a81e",
   "metadata": {},
   "outputs": [],
   "source": [
    "df2 = pd.read_excel('./Dataset Analisis2.xlsx')"
   ]
  },
  {
   "cell_type": "code",
   "execution_count": 7,
   "id": "c0b9183b",
   "metadata": {},
   "outputs": [],
   "source": [
    "x1 = df2['Vaksinasi 2'].values.reshape(-1, 1)\n",
    "y1 = df2['Positif Harian'].values.reshape(-1, 1)"
   ]
  },
  {
   "cell_type": "code",
   "execution_count": 11,
   "id": "2db24080",
   "metadata": {},
   "outputs": [
    {
     "name": "stdout",
     "output_type": "stream",
     "text": [
      "y = [[-0.00041296]]x + [1313.49453075]\n"
     ]
    }
   ],
   "source": [
    "train_x1, test_x1, train_y1, test_y1 = train_test_split(x1, y1, test_size=0.2)\n",
    "\n",
    "linear_regres = LinearRegression()\n",
    "linear_regres.fit(train_x1, train_y1)\n",
    "\n",
    "sign = \"\"\n",
    "if linear_regres.intercept_ >= 0:\n",
    "    sign = \"+\"\n",
    "\n",
    "print(\"y = {}x {} {}\".format(linear_regres.coef_, sign, linear_regres.intercept_))"
   ]
  },
  {
   "cell_type": "code",
   "execution_count": 10,
   "id": "5452190a",
   "metadata": {},
   "outputs": [
    {
     "data": {
      "text/plain": [
       "Text(0.5, 1.0, 'Vaksinasi 2 vs Positif Harian')"
      ]
     },
     "execution_count": 10,
     "metadata": {},
     "output_type": "execute_result"
    },
    {
     "data": {
      "image/png": "[encoded data removed]",
      "text/plain": [
       "<Figure size 432x288 with 1 Axes>"
      ]
     },
     "metadata": {
      "needs_background": "light"
     },
     "output_type": "display_data"
    }
   ],
   "source": [
    "predict_y1 = linear_regres.predict(test_x1)\n",
    "plt.scatter(test_x1, test_y1)\n",
    "plt.plot(test_x1, predict_y1, c='r')\n",
    "\n",
    "plt.xlabel('Vaksinasi 2')\n",
    "plt.ylabel('Positif Harian')\n",
    "\n",
    "plt.title('Vaksinasi 2 vs Positif Harian')"
   ]
  },
  {
   "cell_type": "code",
   "execution_count": null,
   "id": "f55c78de",
   "metadata": {},
   "outputs": [],
   "source": []
  }
 ],
 "metadata": {
  "kernelspec": {
   "display_name": "Python 3 (ipykernel)",
   "language": "python",
   "name": "python3"
  },
  "language_info": {
   "codemirror_mode": {
    "name": "ipython",
    "version": 3
   },
   "file_extension": ".py",
   "mimetype": "text/x-python",
   "name": "python",
   "nbconvert_exporter": "python",
   "pygments_lexer": "ipython3",
   "version": "3.9.5"
  }
 },
 "nbformat": 4,
 "nbformat_minor": 5
}
